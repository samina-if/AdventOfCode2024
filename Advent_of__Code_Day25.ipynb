{
  "nbformat": 4,
  "nbformat_minor": 0,
  "metadata": {
    "colab": {
      "provenance": [],
      "authorship_tag": "ABX9TyNt6tlbsXOutNMzX6DEct6w",
      "include_colab_link": true
    },
    "kernelspec": {
      "name": "python3",
      "display_name": "Python 3"
    },
    "language_info": {
      "name": "python"
    }
  },
  "cells": [
    {
      "cell_type": "markdown",
      "metadata": {
        "id": "view-in-github",
        "colab_type": "text"
      },
      "source": [
        "<a href=\"https://colab.research.google.com/github/samina-if/AdventOfCode2024/blob/main/Advent_of__Code_Day25.ipynb\" target=\"_parent\"><img src=\"https://colab.research.google.com/assets/colab-badge.svg\" alt=\"Open In Colab\"/></a>"
      ]
    },
    {
      "cell_type": "code",
      "execution_count": 3,
      "metadata": {
        "colab": {
          "base_uri": "https://localhost:8080/"
        },
        "id": "MQ67gamBdBoS",
        "outputId": "fab526a3-d448-4bd5-d0c7-1a06c47ba134"
      },
      "outputs": [
        {
          "output_type": "stream",
          "name": "stdout",
          "text": [
            "Number of fitting lock/key pairs: 2900\n",
            "Not enough stars collected, continue visiting places.\n"
          ]
        }
      ],
      "source": [
        "def read_input(file):\n",
        "    with open(file, 'r') as f:\n",
        "        data = f.read().splitlines()\n",
        "    return data\n",
        "\n",
        "# Convert lock/key schematics to height arrays\n",
        "def schematic_to_heights(schematic):\n",
        "    cols = list(zip(*schematic))  # Transpose to process columns\n",
        "    heights = []\n",
        "    for col in cols:\n",
        "        if '#' in col:\n",
        "            height = len(col) - col[::-1].index('#') - 1  # Pin height\n",
        "        else:\n",
        "            height = 0\n",
        "        heights.append(height)\n",
        "    return heights\n",
        "\n",
        "# Check if key fits into lock without overlapping\n",
        "def fits(lock, key):\n",
        "    return all(lock[i] + key[i] <= len(lock) for i in range(len(lock)))\n",
        "\n",
        "# Process the schematics and compute pairs\n",
        "def count_fitting_pairs(data):\n",
        "    schematics = []\n",
        "    current_schematic = []\n",
        "    for line in data:\n",
        "        if line == '':  # Empty line signifies new schematic\n",
        "            if current_schematic:\n",
        "                schematics.append(current_schematic)\n",
        "                current_schematic = []\n",
        "        else:\n",
        "            current_schematic.append(line)\n",
        "    if current_schematic:\n",
        "        schematics.append(current_schematic)\n",
        "\n",
        "    locks, keys = [], []\n",
        "    for schematic in schematics:\n",
        "        if schematic[0].count('#') == len(schematic[0]):  # Lock schematic\n",
        "            locks.append(schematic_to_heights(schematic))\n",
        "        else:  # Key schematic\n",
        "            keys.append(schematic_to_heights(schematic[::-1]))  # Flip for key\n",
        "\n",
        "    count = 0\n",
        "    for lock in locks:\n",
        "        for key in keys:\n",
        "            if fits(lock, key):\n",
        "                count += 1\n",
        "\n",
        "    return count\n",
        "\n",
        "# Part Two: Count stars and check if enough places are visited\n",
        "def count_stars(data):\n",
        "    star_count = sum(line.count('*') for line in data)\n",
        "    return star_count >= 50\n",
        "\n",
        "if __name__ == \"__main__\":\n",
        "    input_data = read_input(\"input.txt\")\n",
        "    result = count_fitting_pairs(input_data)\n",
        "    print(f\"Number of fitting lock/key pairs: {result}\")\n",
        "\n",
        "    if count_stars(input_data):\n",
        "        print(\"Enough stars collected to complete the chronicle!\")\n",
        "    else:\n",
        "        print(\"Not enough stars collected, continue visiting places.\")"
      ]
    }
  ]
}