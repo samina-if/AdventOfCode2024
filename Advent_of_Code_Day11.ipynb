{
  "nbformat": 4,
  "nbformat_minor": 0,
  "metadata": {
    "colab": {
      "provenance": [],
      "authorship_tag": "ABX9TyP07lqhC9Q+n5AQcO1LMyLg",
      "include_colab_link": true
    },
    "kernelspec": {
      "name": "python3",
      "display_name": "Python 3"
    },
    "language_info": {
      "name": "python"
    }
  },
  "cells": [
    {
      "cell_type": "markdown",
      "metadata": {
        "id": "view-in-github",
        "colab_type": "text"
      },
      "source": [
        "<a href=\"https://colab.research.google.com/github/samina-if/AdventOfCode2024/blob/main/Advent_of_Code_Day11.ipynb\" target=\"_parent\"><img src=\"https://colab.research.google.com/assets/colab-badge.svg\" alt=\"Open In Colab\"/></a>"
      ]
    },
    {
      "cell_type": "code",
      "source": [
        "#Part 1\n",
        "# Read the initial arrangement from input.txt\n",
        "def read_input(file):\n",
        "    with open(file, 'r') as f:\n",
        "        return list(map(int, f.readline().strip().split()))\n",
        "\n",
        "# Function to apply the transformation rules to the stones\n",
        "def blink(stones):\n",
        "    new_stones = []\n",
        "    for stone in stones:\n",
        "        if stone == 0:\n",
        "            new_stones.append(1)\n",
        "        elif len(str(stone)) % 2 == 0:\n",
        "            mid = len(str(stone)) // 2\n",
        "            left = int(str(stone)[:mid])\n",
        "            right = int(str(stone)[mid:])\n",
        "            new_stones.extend([left, right])\n",
        "        else:\n",
        "            new_stones.append(stone * 2024)\n",
        "    return new_stones\n",
        "\n",
        "# Main function to simulate the blinking process\n",
        "def simulate_blinks(initial_stones, blinks):\n",
        "    stones = initial_stones\n",
        "    for _ in range(blinks):\n",
        "        stones = blink(stones)\n",
        "    return stones\n",
        "\n",
        "if __name__ == \"__main__\":\n",
        "    # Read the initial arrangement of stones from input.txt\n",
        "    initial_stones = read_input(\"inpu.txt\")\n",
        "\n",
        "    # Number of blinks to simulate\n",
        "    blinks = 25\n",
        "\n",
        "    # Simulate the blinking process\n",
        "    final_stones = simulate_blinks(initial_stones, blinks)\n",
        "\n",
        "    # Output the number of stones after 25 blinks\n",
        "    print(\"Number of stones after\", blinks, \"blinks:\", len(final_stones))\n"
      ],
      "metadata": {
        "id": "69raFkEgFVNM"
      },
      "execution_count": null,
      "outputs": []
    },
    {
      "cell_type": "code",
      "source": [
        "#Part 2\n",
        "def simulate_blinks_count(stones, num_blinks):\n",
        "    \"\"\"\n",
        "    Simulate the evolution of stones by counting their behavior.\n",
        "    \"\"\"\n",
        "    from collections import Counter\n",
        "    # Count the initial stones\n",
        "    stone_counts = Counter(stones)  # {stone_value: count}\n",
        "\n",
        "    for _ in range(num_blinks):\n",
        "        new_counts = Counter()\n",
        "        for stone, count in stone_counts.items():\n",
        "            if stone == 0:\n",
        "                new_counts[1] += count\n",
        "            elif len(str(stone)) % 2 == 0:  # Even number of digits\n",
        "                stone_str = str(stone)\n",
        "                mid = len(stone_str) // 2\n",
        "                left = int(stone_str[:mid])\n",
        "                right = int(stone_str[mid:])\n",
        "                new_counts[left] += count\n",
        "                new_counts[right] += count\n",
        "            else:\n",
        "                new_counts[stone * 2024] += count\n",
        "        stone_counts = new_counts\n",
        "\n",
        "    # Total number of stones\n",
        "    return sum(stone_counts.values())\n",
        "\n",
        "\n",
        "def main():\n",
        "    # Read initial stones from input.txt\n",
        "    file_path = \"/content/inpu.txt\"\n",
        "\n",
        "    with open(file_path, 'r') as file:\n",
        "        content = file.read().strip()\n",
        "\n",
        "    # Extract initial stones (assume they are space-separated integers)\n",
        "    initial_stones = list(map(int, content.split()))\n",
        "\n",
        "    # Simulate blinks\n",
        "    num_blinks = 75\n",
        "    total_stones = simulate_blinks_count(initial_stones, num_blinks)\n",
        "\n",
        "    # Output the number of stones\n",
        "    print(\"Number of stones after 75 blinks:\", total_stones)\n",
        "\n",
        "\n",
        "if __name__ == \"__main__\":\n",
        "    main()"
      ],
      "metadata": {
        "id": "G6_1VxrpQLwL"
      },
      "execution_count": null,
      "outputs": []
    }
  ]
}