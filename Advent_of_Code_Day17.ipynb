{
  "cells": [
    {
      "cell_type": "markdown",
      "metadata": {
        "id": "view-in-github",
        "colab_type": "text"
      },
      "source": [
        "<a href=\"https://colab.research.google.com/github/samina-if/AdventOfCode2024/blob/main/Advent_of_Code_Day17.ipynb\" target=\"_parent\"><img src=\"https://colab.research.google.com/assets/colab-badge.svg\" alt=\"Open In Colab\"/></a>"
      ]
    },
    {
      "cell_type": "code",
      "execution_count": null,
      "metadata": {
        "colab": {
          "base_uri": "https://localhost:8080/"
        },
        "id": "YNSccwpg-PAg",
        "outputId": "1f4fead9-15ef-4706-88e3-a48336ddff38"
      },
      "outputs": [
        {
          "name": "stdout",
          "output_type": "stream",
          "text": [
            "1\n"
          ]
        }
      ],
      "source": [
        "print(1)"
      ]
    },
    {
      "cell_type": "code",
      "execution_count": null,
      "metadata": {
        "colab": {
          "base_uri": "https://localhost:8080/"
        },
        "id": "vgZGyu6g-VpX",
        "outputId": "81c2a26c-ce76-4589-d755-d7d33e2e5a7b"
      },
      "outputs": [
        {
          "name": "stdout",
          "output_type": "stream",
          "text": [
            "Parsed lines: ['Register A: 45483412', 'Register B: 0', 'Register C: 0', 'Program: 2,4,1,3,7,5,0,3,4,1,1,5,5,5,3,0']\n",
            "1,5,0,5,2,0,1,3,5\n"
          ]
        }
      ],
      "source": [
        "def main():\n",
        "    try:\n",
        "        # Read input from file\n",
        "        with open(\"input.txt\", \"r\") as file:\n",
        "            data = file.read().strip()\n",
        "\n",
        "        # Parse input, skipping empty lines\n",
        "        lines = [line for line in data.splitlines() if line.strip()]\n",
        "        print(\"Parsed lines:\", lines)  # Debugging line\n",
        "\n",
        "        if len(lines) < 4:\n",
        "            raise ValueError(\"Input file does not contain enough valid lines. Expected at least 4 lines.\")\n",
        "\n",
        "        registers = [int(line.split(\":\")[1].strip()) for line in lines[:3]]\n",
        "        program_line = lines[3]\n",
        "        if not program_line.startswith(\"Program:\"):\n",
        "            raise ValueError(\"The fourth non-empty line of the input must start with 'Program:'.\")\n",
        "\n",
        "        program = list(map(int, program_line.split(\":\")[1].strip().split(\",\")))\n",
        "\n",
        "        # Simulate the computer\n",
        "        output = simulate_3bit_computer(registers, program)\n",
        "\n",
        "        # Print the result as a comma-separated string\n",
        "        print(\",\".join(map(str, output)))\n",
        "\n",
        "    except Exception as e:\n",
        "        print(\"An error occurred:\", e)\n",
        "\n",
        "# Run the main function\n",
        "if __name__ == \"__main__\":\n",
        "    main()\n"
      ]
    },
    {
      "cell_type": "code",
      "execution_count": null,
      "metadata": {
        "colab": {
          "background_save": true,
          "base_uri": "https://localhost:8080/"
        },
        "id": "odkocWjLAa15",
        "outputId": "71336ef6-1817-43ed-e5cf-63f46d7688e6"
      },
      "outputs": [
        {
          "name": "stdout",
          "output_type": "stream",
          "text": [
            "Parsed lines: ['Register A: 45483412', 'Register B: 0', 'Register C: 0', 'Program: 2,4,1,3,7,5,0,3,4,1,1,5,5,5,3,0']\n"
          ]
        }
      ],
      "source": [
        "def find_lowest_a_to_output_program(program):\n",
        "    # Iterate over positive integers for A\n",
        "    a = 1\n",
        "    while True:\n",
        "        # Initialize registers\n",
        "        registers = [a, 0, 0]  # A, B, C\n",
        "\n",
        "        # Simulate the computer\n",
        "        output = simulate_3bit_computer(registers, program)\n",
        "\n",
        "        # Check if the output matches the program\n",
        "        if output == program:\n",
        "            return a  # Found the smallest positive A\n",
        "        a += 1\n",
        "\n",
        "# Main function to read input and find the solution\n",
        "def main():\n",
        "    try:\n",
        "        # Read input from file\n",
        "        with open(\"input.txt\", \"r\") as file:\n",
        "            data = file.read().strip()\n",
        "\n",
        "        # Parse input, skipping empty lines\n",
        "        lines = [line for line in data.splitlines() if line.strip()]\n",
        "        print(\"Parsed lines:\", lines)  # Debugging line\n",
        "\n",
        "        if len(lines) < 4:\n",
        "            raise ValueError(\"Input file does not contain enough valid lines. Expected at least 4 lines.\")\n",
        "\n",
        "        # Program starts at the fourth non-empty line\n",
        "        program_line = lines[3]\n",
        "        if not program_line.startswith(\"Program:\"):\n",
        "            raise ValueError(\"The fourth non-empty line of the input must start with 'Program:'.\")\n",
        "\n",
        "        # Parse the program as a list of integers\n",
        "        program = list(map(int, program_line.split(\":\")[1].strip().split(\",\")))\n",
        "\n",
        "        # Find the lowest value of A that causes the program to output itself\n",
        "        lowest_a = find_lowest_a_to_output_program(program)\n",
        "\n",
        "        # Print the result\n",
        "        print(\"The lowest positive value for Register A is:\", lowest_a)\n",
        "\n",
        "    except Exception as e:\n",
        "        print(\"An error occurred:\", e)\n",
        "\n",
        "# Run the main function\n",
        "if __name__ == \"__main__\":\n",
        "    main()\n"
      ]
    },
    {
      "cell_type": "code",
      "source": [
        "import re\n",
        "from collections import *\n",
        "import numpy as np\n",
        "\n",
        "# Directly using the given input values\n",
        "a = 45483412  # Register A\n",
        "b = 0         # Register B\n",
        "c = 0         # Register C\n",
        "prog = [2,4,1,3,7,5,0,3,4,1,1,5,5,5,3,0]  # Program sequence\n",
        "\n",
        "# Function to handle the program logic\n",
        "def run(prog, a, b, c):\n",
        "    def combo(num):\n",
        "        if num <= 3:\n",
        "            return num\n",
        "        elif num == 4:\n",
        "            return a\n",
        "        elif num == 5:\n",
        "            return b\n",
        "        elif num == 6:\n",
        "            return c\n",
        "\n",
        "    o = []\n",
        "    ip = 0\n",
        "    while ip < len(prog):\n",
        "        instr = prog[ip]\n",
        "        operand = prog[ip + 1]\n",
        "        if instr == 0:\n",
        "            a = a // (2 ** combo(operand))\n",
        "        elif instr == 1:\n",
        "            b = b ^ operand\n",
        "        elif instr == 2:\n",
        "            b = combo(operand) % 8\n",
        "        elif instr == 3:\n",
        "            if a != 0:\n",
        "                ip = operand - 2\n",
        "        elif instr == 4:\n",
        "            b = b ^ c\n",
        "        elif instr == 5:\n",
        "            o.append(combo(operand) % 8)\n",
        "        elif instr == 6:\n",
        "            b = a // (2 ** combo(operand))\n",
        "        elif instr == 7:\n",
        "            c = a // (2 ** combo(operand))\n",
        "        ip += 2\n",
        "    return o\n",
        "\n",
        "# Run the program and print the output\n",
        "print(\"Output:\", *run(prog, a, b, c), sep=\",\")\n",
        "\n",
        "# Recursive function to find a solution\n",
        "def rec(n, a):\n",
        "    if n == -1:\n",
        "        return a\n",
        "    a <<= 3\n",
        "    for x in range(8):\n",
        "        if run(prog, a + x, 0, 0) == prog[n:]:\n",
        "            s = rec(n - 1, a + x)\n",
        "            if s != -1:\n",
        "                return s\n",
        "    return -1\n",
        "\n",
        "# Print the result of the recursive function\n",
        "print(\"Result:\", rec(len(prog) - 1, 0))"
      ],
      "metadata": {
        "colab": {
          "base_uri": "https://localhost:8080/"
        },
        "id": "47DsH7b7DOmW",
        "outputId": "ba24d949-d3d0-451b-d967-d30c5c5ae1f1"
      },
      "execution_count": 1,
      "outputs": [
        {
          "output_type": "stream",
          "name": "stdout",
          "text": [
            "Output:,1,5,0,5,2,0,1,3,5\n",
            "Result: 236581108670061\n"
          ]
        }
      ]
    }
  ],
  "metadata": {
    "colab": {
      "provenance": [],
      "authorship_tag": "ABX9TyP2imgmAaeVSfrU6VZB3l8m",
      "include_colab_link": true
    },
    "kernelspec": {
      "display_name": "Python 3",
      "name": "python3"
    },
    "language_info": {
      "name": "python"
    }
  },
  "nbformat": 4,
  "nbformat_minor": 0
}