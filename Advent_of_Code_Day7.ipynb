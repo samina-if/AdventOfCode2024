{
  "nbformat": 4,
  "nbformat_minor": 0,
  "metadata": {
    "colab": {
      "provenance": [],
      "gpuType": "T4",
      "authorship_tag": "ABX9TyNS3HyGtf72W+tY7DAzzWm/",
      "include_colab_link": true
    },
    "kernelspec": {
      "name": "python3",
      "display_name": "Python 3"
    },
    "language_info": {
      "name": "python"
    },
    "accelerator": "GPU"
  },
  "cells": [
    {
      "cell_type": "markdown",
      "metadata": {
        "id": "view-in-github",
        "colab_type": "text"
      },
      "source": [
        "<a href=\"https://colab.research.google.com/github/samina-if/AdventOfCode2024/blob/main/Advent_of_Code_Day7.ipynb\" target=\"_parent\"><img src=\"https://colab.research.google.com/assets/colab-badge.svg\" alt=\"Open In Colab\"/></a>"
      ]
    },
    {
      "cell_type": "code",
      "source": [
        "#Practice\n",
        "from itertools import product\n",
        "\n",
        "def parse_input(equations_str):\n",
        "    \"\"\"Parse the input string to extract equations.\"\"\"\n",
        "    equations = []\n",
        "    for line in equations_str:\n",
        "        target, numbers = line.split(\":\")\n",
        "        target = int(target.strip())\n",
        "        numbers = list(map(int, numbers.strip().split()))\n",
        "        equations.append((target, numbers))\n",
        "    return equations\n",
        "\n",
        "def evaluate_expression(numbers, operators):\n",
        "    \"\"\"Evaluate the expression using the provided operators.\"\"\"\n",
        "    result = numbers[0]\n",
        "    for i in range(len(operators)):\n",
        "        if operators[i] == '+':\n",
        "            result += numbers[i + 1]\n",
        "        elif operators[i] == '*':\n",
        "            result *= numbers[i + 1]\n",
        "        elif operators[i] == '||':\n",
        "            result = int(str(result) + str(numbers[i + 1]))\n",
        "    return result\n",
        "\n",
        "def find_calibration_result(equations_str):\n",
        "    \"\"\"Find the total calibration result.\"\"\"\n",
        "    equations = parse_input(equations_str)\n",
        "    total_calibration_result = 0\n",
        "\n",
        "    for target, numbers in equations:\n",
        "        n = len(numbers) - 1\n",
        "        valid_found = False\n",
        "\n",
        "        for ops in product([\"+\", \"*\", \"||\"], repeat=n):\n",
        "            if evaluate_expression(numbers, ops) == target:\n",
        "                if not valid_found:\n",
        "                    total_calibration_result += target\n",
        "                    valid_found = True\n",
        "\n",
        "    return total_calibration_result\n",
        "\n",
        "# Example input as a list of strings\n",
        "equations_str = [\n",
        "    \"190: 10 19\",\n",
        "    \"3267: 81 40 27\",\n",
        "    \"83: 17 5\",\n",
        "    \"156: 15 6\",\n",
        "    \"7290: 6 8 6 15\",\n",
        "    \"161011: 16 10 13\",\n",
        "    \"192: 17 8 14\",\n",
        "    \"21037: 9 7 18 13\",\n",
        "    \"292: 11 6 16 20\"\n",
        "]\n",
        "\n",
        "# Calculate and print the total calibration result\n",
        "result = find_calibration_result(equations_str)\n",
        "print(\"Total Calibration Result:\", result)\n"
      ],
      "metadata": {
        "colab": {
          "base_uri": "https://localhost:8080/"
        },
        "id": "mr7BzzvclO9E",
        "outputId": "744f1295-90cc-483f-943a-e31f8facb77c"
      },
      "execution_count": 14,
      "outputs": [
        {
          "output_type": "stream",
          "name": "stdout",
          "text": [
            "Total Calibration Result: 11387\n"
          ]
        }
      ]
    },
    {
      "cell_type": "code",
      "source": [
        "from itertools import product\n",
        "\n",
        "def parse_input(equations_str):\n",
        "    \"\"\"Parse the input string to extract equations.\"\"\"\n",
        "    equations = []\n",
        "    for line in equations_str:\n",
        "        target, numbers = line.split(\":\")\n",
        "        target = int(target.strip())\n",
        "        numbers = list(map(int, numbers.strip().split()))\n",
        "        equations.append((target, numbers))\n",
        "    return equations\n",
        "\n",
        "def evaluate_expression(numbers, operators):\n",
        "    \"\"\"Evaluate the expression using the provided operators.\"\"\"\n",
        "    result = numbers[0]\n",
        "    for i in range(len(operators)):\n",
        "        if operators[i] == '+':\n",
        "            result += numbers[i + 1]\n",
        "        elif operators[i] == '*':\n",
        "            result *= numbers[i + 1]\n",
        "        elif operators[i] == '||':\n",
        "            result = int(str(result) + str(numbers[i + 1]))\n",
        "    return result\n",
        "\n",
        "def find_calibration_result(file_path):\n",
        "    \"\"\"Find the total calibration result from a file.\"\"\"\n",
        "    with open(file_path, 'r') as f:\n",
        "        equations_str = f.readlines()\n",
        "\n",
        "    equations = parse_input(equations_str)\n",
        "    total_calibration_result = 0\n",
        "\n",
        "    for target, numbers in equations:\n",
        "        n = len(numbers) - 1\n",
        "        valid_found = False\n",
        "\n",
        "        for ops in product([\"+\", \"*\", \"||\"], repeat=n):\n",
        "            if evaluate_expression(numbers, ops) == target:\n",
        "                if not valid_found:\n",
        "                    total_calibration_result += target\n",
        "                    valid_found = True\n",
        "\n",
        "    return total_calibration_result\n",
        "\n",
        "# Specify the path to your input file\n",
        "input_file_path = \"input.txt\"\n",
        "\n",
        "# Calculate and print the total calibration result\n",
        "result = find_calibration_result(input_file_path)\n",
        "print(\"Total Calibration Result:\", result)\n"
      ],
      "metadata": {
        "id": "2E9XLvakmqL1"
      },
      "execution_count": null,
      "outputs": []
    },
    {
      "cell_type": "code",
      "source": [
        "# part 1\n",
        "from itertools import product\n",
        "\n",
        "def parse_input(file_path):\n",
        "    with open(file_path, \"r\") as f:\n",
        "        equations = []\n",
        "        for line in f:\n",
        "            target, numbers = line.split(\":\")\n",
        "            target = int(target.strip())\n",
        "            numbers = list(map(int, numbers.strip().split()))\n",
        "            equations.append((target, numbers))\n",
        "    return equations\n",
        "\n",
        "def evaluate_expression(numbers, operators):\n",
        "    # Evaluate left-to-right\n",
        "    result = numbers[0]\n",
        "    for i in range(len(operators)):\n",
        "        if operators[i] == '+':\n",
        "            result += numbers[i + 1]\n",
        "        elif operators[i] == '*':\n",
        "            result *= numbers[i + 1]\n",
        "    return result\n",
        "\n",
        "def find_calibration_result(file_path):\n",
        "    equations = parse_input(file_path)\n",
        "    total_calibration_result = 0\n",
        "\n",
        "    for target, numbers in equations:\n",
        "        n = len(numbers) - 1\n",
        "        valid = False\n",
        "\n",
        "        for ops in product(\"+-*\", repeat=n):\n",
        "            if evaluate_expression(numbers, ops) == target:\n",
        "                valid = True\n",
        "                break\n",
        "\n",
        "        if valid:\n",
        "            total_calibration_result += target\n",
        "\n",
        "    return total_calibration_result\n",
        "\n",
        "# Example usage\n",
        "file_path = \"input.txt\"\n",
        "print(\"Total Calibration Result:\", find_calibration_result(file_path))\n"
      ],
      "metadata": {
        "id": "b-ptfKwOlhpJ"
      },
      "execution_count": null,
      "outputs": []
    },
    {
      "cell_type": "code",
      "source": [],
      "metadata": {
        "id": "ZtQa8JtGn2R3"
      },
      "execution_count": null,
      "outputs": []
    }
  ]
}