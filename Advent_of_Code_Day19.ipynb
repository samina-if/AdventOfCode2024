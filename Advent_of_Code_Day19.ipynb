{
  "nbformat": 4,
  "nbformat_minor": 0,
  "metadata": {
    "colab": {
      "provenance": [],
      "authorship_tag": "ABX9TyNYhIabNARYW31dUym+tzud",
      "include_colab_link": true
    },
    "kernelspec": {
      "name": "python3",
      "display_name": "Python 3"
    },
    "language_info": {
      "name": "python"
    }
  },
  "cells": [
    {
      "cell_type": "markdown",
      "metadata": {
        "id": "view-in-github",
        "colab_type": "text"
      },
      "source": [
        "<a href=\"https://colab.research.google.com/github/samina-if/AdventOfCode2024/blob/main/Advent_of_Code_Day19.ipynb\" target=\"_parent\"><img src=\"https://colab.research.google.com/assets/colab-badge.svg\" alt=\"Open In Colab\"/></a>"
      ]
    },
    {
      "cell_type": "code",
      "source": [
        "# Read input from input.txt\n",
        "with open('input.txt', 'r') as file:\n",
        "    data = file.read()\n",
        "\n",
        "# Split input into towel patterns and desired designs\n",
        "sections = data.split(\"\\n\\n\")  # Separate by blank line\n",
        "patterns = sections[0].split(\", \")\n",
        "designs = sections[1].splitlines()\n",
        "\n",
        "# Function to check if a design is possible\n",
        "def is_design_possible(design, patterns):\n",
        "    # Use dynamic programming to check if the design can be formed\n",
        "    dp = [False] * (len(design) + 1)\n",
        "    dp[0] = True  # Base case: empty design is always possible\n",
        "\n",
        "    for i in range(1, len(design) + 1):\n",
        "        for pattern in patterns:\n",
        "            if i >= len(pattern) and design[i-len(pattern):i] == pattern:\n",
        "                dp[i] = dp[i] or dp[i-len(pattern)]\n",
        "\n",
        "    return dp[len(design)]\n",
        "\n",
        "# Count how many designs are possible\n",
        "possible_count = 0\n",
        "\n",
        "for design in designs:\n",
        "    if is_design_possible(design, patterns):\n",
        "        possible_count += 1\n",
        "\n",
        "print(f\"Number of possible designs: {possible_count}\")\n"
      ],
      "metadata": {
        "id": "H8cuPNu3RJZk"
      },
      "execution_count": null,
      "outputs": []
    },
    {
      "cell_type": "code",
      "source": [
        "# Read input from input.txt\n",
        "with open('input.txt', 'r') as file:\n",
        "    data = file.read()\n",
        "\n",
        "# Split input into towel patterns and desired designs\n",
        "sections = data.split(\"\\n\\n\")  # Separate by blank line\n",
        "patterns = sections[0].split(\", \")\n",
        "designs = sections[1].splitlines()\n",
        "\n",
        "# Function to count the number of ways a design can be made\n",
        "def count_ways(design, patterns):\n",
        "    # Use dynamic programming to count ways\n",
        "    dp = [0] * (len(design) + 1)\n",
        "    dp[0] = 1  # Base case: one way to form an empty design\n",
        "\n",
        "    for i in range(1, len(design) + 1):\n",
        "        for pattern in patterns:\n",
        "            if i >= len(pattern) and design[i-len(pattern):i] == pattern:\n",
        "                dp[i] += dp[i-len(pattern)]\n",
        "\n",
        "    return dp[len(design)]\n",
        "\n",
        "# Compute the total number of arrangements for all designs\n",
        "total_arrangements = 0\n",
        "\n",
        "for design in designs:\n",
        "    ways = count_ways(design, patterns)\n",
        "    print(f\"Design: {design}, Ways: {ways}\")\n",
        "    total_arrangements += ways\n",
        "\n",
        "print(f\"Total number of ways to arrange all designs: {total_arrangements}\")\n"
      ],
      "metadata": {
        "id": "FWojthmNS6-B"
      },
      "execution_count": null,
      "outputs": []
    }
  ]
}