{
  "nbformat": 4,
  "nbformat_minor": 0,
  "metadata": {
    "colab": {
      "provenance": [],
      "authorship_tag": "ABX9TyPJZH6O2Pm3pT1juqt4fptD",
      "include_colab_link": true
    },
    "kernelspec": {
      "name": "python3",
      "display_name": "Python 3"
    },
    "language_info": {
      "name": "python"
    }
  },
  "cells": [
    {
      "cell_type": "markdown",
      "metadata": {
        "id": "view-in-github",
        "colab_type": "text"
      },
      "source": [
        "<a href=\"https://colab.research.google.com/github/samina-if/AdventOfCode2024/blob/main/Advent_of_Code_Day12.ipynb\" target=\"_parent\"><img src=\"https://colab.research.google.com/assets/colab-badge.svg\" alt=\"Open In Colab\"/></a>"
      ]
    },
    {
      "cell_type": "code",
      "source": [
        "#Part 2\n",
        "import numpy as np\n",
        "\n",
        "# Define the ORTHOGONAL_DIRS variable\n",
        "ORTHOGONAL_DIRS = [(-1, 0), (1, 0), (0, -1), (0, 1)]\n",
        "\n",
        "def get(lines, pos, default):\n",
        "    \"\"\"\n",
        "    Helper function to safely access the value at position `pos` in the `lines` list.\n",
        "    If the position is out of bounds, return the `default` value.\n",
        "    \"\"\"\n",
        "    x, y = pos\n",
        "    if 0 <= x < len(lines) and 0 <= y < len(lines[0]):\n",
        "        return lines[x][y]\n",
        "    return default\n",
        "\n",
        "def calculate_total_area_and_perimeter(input_file):\n",
        "    # Read the input file\n",
        "    with open(input_file, 'r') as f:\n",
        "        lines = [list(line.strip()) for line in f.readlines()]\n",
        "\n",
        "    total = 0\n",
        "    visited = set()\n",
        "\n",
        "    for i, row in enumerate(lines):\n",
        "        for j, c in enumerate(row):\n",
        "            if (i, j) in visited:\n",
        "                continue\n",
        "\n",
        "            visited_perimeter = set()\n",
        "            stack = [(i, j)]\n",
        "            area = 0\n",
        "            perimeter = 0\n",
        "\n",
        "            while stack:\n",
        "                x, y = stack.pop()\n",
        "                if (x, y) in visited:\n",
        "                    continue\n",
        "\n",
        "                for d in ORTHOGONAL_DIRS:\n",
        "                    if get(lines, (x + d[0], y + d[1]), None) == c:\n",
        "                        stack.append((x + d[0], y + d[1]))\n",
        "                    else:\n",
        "                        if ((x, y), (x + d[0], y + d[1])) in visited_perimeter:\n",
        "                            continue\n",
        "\n",
        "                        perimeter += 1\n",
        "                        visited_perimeter.add(((x, y), (x + d[0], y + d[1])))\n",
        "\n",
        "                        curr = (x, y)\n",
        "                        ortho = np.array([[0, 1], [-1, 0]]) @ np.array(d)\n",
        "\n",
        "                        while True:\n",
        "                            curr = ortho + curr\n",
        "                            if get(lines, tuple(curr), None) == c and get(lines, tuple(np.array(d) + curr), None) != c:\n",
        "                                visited_perimeter.add((tuple(curr), tuple(np.array(d) + curr)))\n",
        "                            else:\n",
        "                                break\n",
        "\n",
        "                        curr = (x, y)\n",
        "                        ortho = np.array([[0, -1], [1, 0]]) @ np.array(d)\n",
        "\n",
        "                        while True:\n",
        "                            curr = ortho + curr\n",
        "                            if get(lines, tuple(curr), None) == c and get(lines, tuple(np.array(d) + curr), None) != c:\n",
        "                                visited_perimeter.add((tuple(curr), tuple(np.array(d) + curr)))\n",
        "                            else:\n",
        "                                break\n",
        "\n",
        "                area += 1\n",
        "                visited.add((x, y))\n",
        "\n",
        "            total += area * perimeter\n",
        "\n",
        "    return total\n",
        "\n",
        "# Example usage:\n",
        "input_file = 'input.txt'  # Specify the path to your input file\n",
        "total = calculate_total_area_and_perimeter(input_file)\n",
        "print(total)\n",
        "\n",
        "\n"
      ],
      "metadata": {
        "colab": {
          "base_uri": "https://localhost:8080/"
        },
        "id": "aXO5sSwLq6kS",
        "outputId": "90ed484b-c3b8-454a-bd3f-5283aa228a2a"
      },
      "execution_count": 5,
      "outputs": [
        {
          "output_type": "stream",
          "name": "stdout",
          "text": [
            "858684\n"
          ]
        }
      ]
    },
    {
      "cell_type": "code",
      "source": [
        "#Part 1\n",
        "def read_map(file_path):\n",
        "    \"\"\"Reads the garden map from the input file.\"\"\"\n",
        "    with open(file_path, 'r') as file:\n",
        "        return [list(line.strip()) for line in file.readlines()]\n",
        "\n",
        "def flood_fill(grid, x, y, visited, plant_type):\n",
        "    \"\"\"Performs flood-fill to find a region and calculates its area and perimeter.\"\"\"\n",
        "    rows, cols = len(grid), len(grid[0])\n",
        "    stack = [(x, y)]\n",
        "    area = 0\n",
        "    perimeter = 0\n",
        "    visited.add((x, y))\n",
        "\n",
        "    # Directions for movement: up, down, left, right\n",
        "    directions = [(-1, 0), (1, 0), (0, -1), (0, 1)]\n",
        "\n",
        "    while stack:\n",
        "        cx, cy = stack.pop()\n",
        "        area += 1\n",
        "\n",
        "        for dx, dy in directions:\n",
        "            nx, ny = cx + dx, cy + dy\n",
        "            if 0 <= nx < rows and 0 <= ny < cols:\n",
        "                if grid[nx][ny] == plant_type:\n",
        "                    if (nx, ny) not in visited:\n",
        "                        visited.add((nx, ny))\n",
        "                        stack.append((nx, ny))\n",
        "                else:\n",
        "                    # Edge of the region\n",
        "                    perimeter += 1\n",
        "            else:\n",
        "                # Edge of the grid\n",
        "                perimeter += 1\n",
        "\n",
        "    return area, perimeter\n",
        "\n",
        "def calculate_fencing_cost(grid):\n",
        "    \"\"\"Calculates the total fencing cost for the garden.\"\"\"\n",
        "    rows, cols = len(grid), len(grid[0])\n",
        "    visited = set()\n",
        "    total_cost = 0\n",
        "\n",
        "    for x in range(rows):\n",
        "        for y in range(cols):\n",
        "            if (x, y) not in visited:\n",
        "                # Start a new region\n",
        "                plant_type = grid[x][y]\n",
        "                area, perimeter = flood_fill(grid, x, y, visited, plant_type)\n",
        "                total_cost += area * perimeter\n",
        "\n",
        "    return total_cost\n",
        "\n",
        "def main():\n",
        "    # Read the garden map from the input file\n",
        "    file_path = \"input.txt\"\n",
        "    garden_map = read_map(file_path)\n",
        "\n",
        "    # Calculate the total fencing cost\n",
        "    total_cost = calculate_fencing_cost(garden_map)\n",
        "\n",
        "    # Output the result\n",
        "    print(\"Total fencing cost:\", total_cost)\n",
        "\n",
        "if __name__ == \"__main__\":\n",
        "    main()\n",
        ""
      ],
      "metadata": {
        "colab": {
          "base_uri": "https://localhost:8080/"
        },
        "id": "w1zgJd6SrFHF",
        "outputId": "112d5033-7a79-456c-c2e1-9e55f84132d2"
      },
      "execution_count": 7,
      "outputs": [
        {
          "output_type": "stream",
          "name": "stdout",
          "text": [
            "Total fencing cost: 1424006\n"
          ]
        }
      ]
    },
    {
      "cell_type": "code",
      "source": [],
      "metadata": {
        "id": "h0eU7r7jrgM1"
      },
      "execution_count": null,
      "outputs": []
    }
  ]
}